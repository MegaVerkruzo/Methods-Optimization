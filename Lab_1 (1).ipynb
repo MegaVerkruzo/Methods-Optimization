{
 "nbformat": 4,
 "nbformat_minor": 0,
 "metadata": {
  "colab": {
   "provenance": []
  },
  "kernelspec": {
   "name": "python3",
   "display_name": "Python 3"
  },
  "language_info": {
   "name": "python"
  }
 },
 "cells": [
  {
   "cell_type": "code",
   "execution_count": null,
   "metadata": {
    "id": "kBL_7GvoLOos",
    "pycharm": {
     "is_executing": true
    }
   },
   "outputs": [],
   "source": [
    "import numpy as np\n",
    "import matplotlib.pyplot as plt\n",
    "plt.rcParams[\"figure.figsize\"] = (10,10)"
   ]
  },
  {
   "cell_type": "markdown",
   "source": [
    "# 1. Градиентный спуск с постоянным шагом"
   ],
   "metadata": {
    "id": "SgPpDYziUISR"
   }
  },
  {
   "cell_type": "code",
   "source": [
    "alpha = 1\n",
    "beta = 20\n",
    "def f1(x, y):\n",
    "    return alpha * (x + 10) ** 2 + beta * (y + 10) ** 2\n",
    "\n",
    "def grad(x, y):\n",
    "    return [2 * alpha * (x  + 10), 2 * beta * (y + 10)]"
   ],
   "metadata": {
    "id": "plRKky3_UDyp",
    "pycharm": {
     "is_executing": true
    }
   },
   "execution_count": null,
   "outputs": []
  },
  {
   "cell_type": "code",
   "source": [
    "t = np.linspace(-30, 30, 1000)\n",
    "X, Y = np.meshgrid(t, t)\n",
    "ax = plt.figure().add_subplot(projection='3d')\n",
    "ax.plot_surface(X, Y, f1(X, Y))"
   ],
   "metadata": {
    "id": "OYjFLo3ZeElx",
    "colab": {
     "base_uri": "https://localhost:8080/",
     "height": 592
    },
    "outputId": "3639e775-fe58-489b-a3a0-2e64d11e5596",
    "pycharm": {
     "is_executing": true
    }
   },
   "execution_count": null,
   "outputs": []
  },
  {
   "cell_type": "code",
   "source": [
    "def gradient_descent(f, grad, x, eps = 0.01, lr=0.01):\n",
    "  points = []\n",
    "  points.append(x)\n",
    "  grad_cnt = 0\n",
    "  while True:\n",
    "      x = x - lr * np.array(grad(x[0], x[1]))\n",
    "      if np.linalg.norm(x - points[-1]) < eps:\n",
    "        break\n",
    "      points.append(x)\n",
    "      grad_cnt += 1\n",
    "\n",
    "  points = np.array(points)\n",
    "  print(grad_cnt)\n",
    "  print(x)\n",
    "  plt.plot(points[:, 0], points[:, 1], 'o-')\n",
    "  plt.contour(X, Y, f(X, Y), levels=sorted([f(p[0], p[1]) for p in points]))"
   ],
   "metadata": {
    "id": "tl_tMMKdUYe3",
    "pycharm": {
     "is_executing": true
    }
   },
   "execution_count": null,
   "outputs": []
  },
  {
   "cell_type": "code",
   "source": [
    "gradient_descent(f1, grad, [-200, 300])"
   ],
   "metadata": {
    "id": "HGn_tAqhVANe",
    "colab": {
     "base_uri": "https://localhost:8080/",
     "height": 943
    },
    "outputId": "0839f4a6-fc59-4c88-98cd-9ef1b5f714a2",
    "pycharm": {
     "is_executing": true
    }
   },
   "execution_count": null,
   "outputs": []
  },
  {
   "cell_type": "markdown",
   "source": [
    "# 2. Метод дихотомии \n"
   ],
   "metadata": {
    "id": "unBX6U9FaOS9"
   }
  },
  {
   "cell_type": "code",
   "source": [
    "def f2(x, y):\n",
    "  return alpha*(x+10)**2 + beta*(y+10)**2\n",
    "\n",
    "def grad_f2(x, y):\n",
    "  return [2 * alpha * (x+10), 2 * beta * (y+10)]"
   ],
   "metadata": {
    "id": "m7gDBTAfdXaC",
    "pycharm": {
     "is_executing": true
    }
   },
   "execution_count": null,
   "outputs": []
  },
  {
   "cell_type": "markdown",
   "source": [],
   "metadata": {
    "collapsed": false
   }
  },
  {
   "cell_type": "code",
   "source": [
    "def dichotomy_method(f, grad, current, res_eps, eps):\n",
    "  func_cnt = 0\n",
    "  grad_cnt = 0\n",
    "  points = []\n",
    "  current = np.asarray(current)\n",
    "  points.append(current)\n",
    "\n",
    "  while True:\n",
    "    grad_cnt += 1\n",
    "    gradient = np.array(grad(current[0], current[1]))\n",
    "    interval = [current, current - gradient]\n",
    "    gradient /= np.linalg.norm(gradient)\n",
    "    a, b = interval[0], interval[1]\n",
    "    x = (a + b) / 2\n",
    "    while np.linalg.norm(b - a) > eps:\n",
    "      left = x + eps * gradient\n",
    "      right = x - eps * gradient\n",
    "      func_cnt += 2\n",
    "      f1, f2 = f(left[0], left[1]), f(right[0], right[1])\n",
    "      if f1 < f2:\n",
    "        b = x\n",
    "      else:\n",
    "        a = x\n",
    "      print(a, b)\n",
    "      x = (a + b) / 2\n",
    "    points.append(x)\n",
    "    if np.linalg.norm(current - x) < res_eps:\n",
    "      break\n",
    "    current = x\n",
    "\n",
    "  print(\"Gradient calculation count: \", grad_cnt)\n",
    "  print(\"Function calculation count: \", func_cnt)\n",
    "  points = np.array(points)\n",
    "  print(points)\n",
    "  plt.plot(points[:, 0], points[:, 1], 'o-')\n",
    "  plt.contour(X, Y, f(X, Y), levels=sorted([f(p[0], p[1]) for p in points]))"
   ],
   "metadata": {
    "id": "IKi52tDKUHcp",
    "pycharm": {
     "is_executing": true
    }
   },
   "execution_count": null,
   "outputs": []
  },
  {
   "cell_type": "code",
   "source": [
    "dichotomy_method(f2, grad_f2, [0.0, 0.0], 0.01, 0.01)"
   ],
   "metadata": {
    "colab": {
     "base_uri": "https://localhost:8080/",
     "height": 623
    },
    "id": "oojpq57AgChi",
    "outputId": "963e67d0-eac9-412e-a650-c431a0fe5aa5",
    "pycharm": {
     "is_executing": true
    }
   },
   "execution_count": null,
   "outputs": []
  },
  {
   "cell_type": "markdown",
   "source": [
    "# 5. Генератор случайных квадратичных функций"
   ],
   "metadata": {
    "id": "Mb2vjIfCmfk6"
   }
  },
  {
   "cell_type": "code",
   "source": [
    "def generate_matrix(n, k):\n",
    "  k = k ** 0.5\n",
    "  A = 10 * np.random.rand(n, n)\n",
    "  U, s, V = np.linalg.svd(A) #svd decomposition\n",
    "  max_l = 10 * np.random.rand()\n",
    "  min_l = max_l / k\n",
    "  s = np.random.uniform(low=min_l, high=max_l, size=n)\n",
    "  s[0] = min_l\n",
    "  s[n - 1] = max_l\n",
    "  S = np.diag(s)\n",
    "  A = U.dot(S).dot(V.T)\n",
    "  A = A.T.dot(A) # positive-semidefinite\n",
    "  return A\n",
    "\n",
    "\n",
    "def quadratic_function(n, k):\n",
    "  A = generate_matrix(n, k)\n",
    "  return lambda x: np.array(x).dot(A).dot(x), lambda x: 2 * A.dot(x)  \n",
    "\n",
    "print(np.linalg.cond(generate_matrix(2, 100)))\n",
    "func, gr = quadratic_function(2, 2)\n",
    "print(func([0, 0]))\n",
    "print(gr([1, 2]))"
   ],
   "metadata": {
    "id": "JqnhT-xcmmIh",
    "colab": {
     "base_uri": "https://localhost:8080/"
    },
    "outputId": "522031c3-68bd-4484-97f3-3a0228c24717",
    "pycharm": {
     "is_executing": true
    }
   },
   "execution_count": null,
   "outputs": []
  },
  {
   "cell_type": "markdown",
   "source": [
    "N-мерный градиентный спуск"
   ],
   "metadata": {
    "id": "E7xuqLds4Otn"
   }
  },
  {
   "cell_type": "code",
   "source": [
    "def gradient_descent(n, f, grad, eps=1e-3, lr=0.01):\n",
    "  start = np.full(n, 10)\n",
    "  zeros = np.zeros(n)\n",
    "  prev_x = start\n",
    "  cur_x = prev_x - lr * np.array(grad(prev_x))\n",
    "  c = 1\n",
    "  while abs(f(prev_x) - f(cur_x)) > eps:\n",
    "    prev_x = cur_x\n",
    "    cur_x = prev_x - lr * np.array(grad(prev_x))\n",
    "    c += 1\n",
    "  return c"
   ],
   "metadata": {
    "colab": {
     "base_uri": "https://localhost:8080/"
    },
    "id": "IelfuKUv3Edc",
    "outputId": "da3c3086-3ec9-44cb-cf08-ae3af3632788"
   },
   "execution_count": null,
   "outputs": [
    {
     "output_type": "stream",
     "name": "stdout",
     "text": [
      "17\n"
     ]
    }
   ]
  },
  {
   "cell_type": "code",
   "source": [
    "X, Y = np.arange(2, 1001), np.arange(2, 1001)\n",
    "for n in X:\n",
    "  av = 0\n",
    "  for i in range(500):\n",
    "    f, g = quadratic_function(n, 2)\n",
    "    av += gradient_descent(n, f, g)\n",
    "  Y[n - 2] = av / 500"
   ],
   "metadata": {
    "id": "oi6jYXk3lTRP"
   },
   "execution_count": null,
   "outputs": []
  },
  {
   "cell_type": "code",
   "source": [
    "  plt.plot(X, Y)\n",
    "  plt.xlabel(\"Number of dimensions\")\n",
    "  plt.ylabel(\"Number of steps\")"
   ],
   "metadata": {
    "colab": {
     "base_uri": "https://localhost:8080/",
     "height": 624
    },
    "id": "uS-iyIBDny23",
    "outputId": "1e653642-8b16-4b68-edfa-8aaf2ae167b6"
   },
   "execution_count": null,
   "outputs": [
    {
     "output_type": "execute_result",
     "data": {
      "text/plain": [
       "Text(0, 0.5, 'Number of steps')"
      ]
     },
     "metadata": {},
     "execution_count": 203
    },
    {
     "output_type": "display_data",
     "data": {
      "text/plain": [
       "<Figure size 720x720 with 1 Axes>"
      ],
      "image/png": "[encoded data removed]"
     },
     "metadata": {
      "needs_background": "light"
     }
    }
   ]
  },
  {
   "cell_type": "code",
   "source": [
    "X, Y = np.arange(1, 1001), np.arange(1, 1001)\n",
    "for k in X:\n",
    "  av = 0\n",
    "  for i in range(500):\n",
    "    f, g = quadratic_function(2, k)\n",
    "    av += gradient_descent(2, f, g)\n",
    "  Y[n - 1] = av / 500"
   ],
   "metadata": {
    "id": "eUoGi8Z-mdZu"
   },
   "execution_count": null,
   "outputs": []
  },
  {
   "cell_type": "code",
   "source": [
    "  plt.plot(X, Y)\n",
    "  plt.xlabel(\"Conditional number\")\n",
    "  plt.ylabel(\"Number of steps\")"
   ],
   "metadata": {
    "id": "iGnI6cEdqIVD"
   },
   "execution_count": null,
   "outputs": []
  }
 ]
}
